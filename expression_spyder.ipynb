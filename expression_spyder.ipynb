{
 "cells": [
  {
   "cell_type": "code",
   "execution_count": 40,
   "metadata": {},
   "outputs": [],
   "source": [
    "import requests #请求网页\n",
    "from typing import Dict #类型提示\n",
    "from PIL import Image,ImageTk #图片显示和保存\n",
    "import io #配合PIL使用\n",
    "import tkinter as tk #以便图片显示和交互式保存\n",
    "import os  #创建图片保存的文件夹"
   ]
  },
  {
   "cell_type": "markdown",
   "metadata": {},
   "source": [
    "##### 把字符串转化为字典 需要每对键值间以'\\n'间隔,键值内以':'间隔 #####"
   ]
  },
  {
   "cell_type": "code",
   "execution_count": 3,
   "metadata": {},
   "outputs": [],
   "source": [
    "def str_to_dict(s:str)->Dict:\n",
    "    return {line.split(':',1)[0].strip():line.split(':',1)[1].strip() for line in s.split('\\n') if line!=''}"
   ]
  },
  {
   "cell_type": "markdown",
   "metadata": {},
   "source": [
    "##### 创建保存图片的文件夹 #####"
   ]
  },
  {
   "cell_type": "code",
   "execution_count": 41,
   "metadata": {},
   "outputs": [],
   "source": [
    "dir_path='./表情包'\n",
    "if not os.path.isdir(dir_path):\n",
    "    os.makedirs(dir_path)"
   ]
  },
  {
   "cell_type": "markdown",
   "metadata": {},
   "source": [
    "## 根据关键词发送请求，解析响应对象，得到图片集的路径/网址 ##"
   ]
  },
  {
   "cell_type": "code",
   "execution_count": 4,
   "metadata": {},
   "outputs": [],
   "source": [
    "#准备发送请求的参数\n",
    "key='狗狗'\n",
    "cur_page=1\n",
    "page_size=100\n",
    "search_headers_str='''Accept:application/json, text/plain, */*\n",
    "Accept-Encoding:gzip, deflate, br\n",
    "Accept-Language:zh-CN,zh;q=0.9,en;q=0.8,en-GB;q=0.7,en-US;q=0.6\n",
    "Origin:https://www.doutub.com\n",
    "Referer:https://www.doutub.com/\n",
    "Sec-Ch-Ua:\"Microsoft Edge\";v=\"119\", \"Chromium\";v=\"119\", \"Not?A_Brand\";v=\"24\"\n",
    "Sec-Ch-Ua-Mobile:?0\n",
    "Sec-Ch-Ua-Platform:\"Windows\"\n",
    "Sec-Fetch-Dest:empty\n",
    "Sec-Fetch-Mode:cors\n",
    "Sec-Fetch-Site:same-site\n",
    "User-Agent:Mozilla/5.0 (Windows NT 10.0; Win64; x64) AppleWebKit/537.36 (KHTML, like Gecko) Chrome/119.0.0.0 Safari/537.36 Edg/119.0.0.0\n",
    "'''\n",
    "search_params_str=f'''keyword: {key}\n",
    "curPage: {cur_page}\n",
    "pageSize: {page_size}\n",
    "'''\n",
    "search_url='https://api.doutub.com/api/bq/search'\n",
    "search_headers=str_to_dict(search_headers_str)\n",
    "search_params=str_to_dict(search_params_str)"
   ]
  },
  {
   "cell_type": "code",
   "execution_count": 6,
   "metadata": {},
   "outputs": [],
   "source": [
    "search_resp=requests.get(url=search_url,headers=search_headers,params=search_params)\n",
    "\n",
    "#提取信息\n",
    "search_resp_content=search_resp.content\n",
    "search_resp_dict=search_resp.json()\n",
    "search_resp_data=search_resp_dict['data']"
   ]
  },
  {
   "cell_type": "code",
   "execution_count": 8,
   "metadata": {},
   "outputs": [],
   "source": [
    "count=search_resp_data['count'] #图片集的数量\n",
    "imgs_name=[img['imgName'] for img in search_resp_data['rows']]\n",
    "imgs_path=[img['path'] for img in search_resp_data['rows']] #网址"
   ]
  },
  {
   "cell_type": "markdown",
   "metadata": {},
   "source": [
    "## 对于图片集的一个图片的网址进行请求并解析 ##"
   ]
  },
  {
   "cell_type": "code",
   "execution_count": 9,
   "metadata": {},
   "outputs": [],
   "source": [
    "img_headers_str='''\n",
    "Accept: text/html,application/xhtml+xml,application/xml;q=0.9,image/webp,image/apng,*/*;q=0.8,application/signed-exchange;v=b3;q=0.7\n",
    "Accept-Encoding: gzip, deflate, br\n",
    "Accept-Language: zh-CN,zh;q=0.9,en;q=0.8,en-GB;q=0.7,en-US;q=0.6\n",
    "Cache-Control: max-age=0\n",
    "Connection: keep-alive\n",
    "Cookie: Hm_lvt_0e35b200a6045f9dd8f8887cd4626da2=1701179179; Hm_lpvt_0e35b200a6045f9dd8f8887cd4626da2=1701179762\n",
    "Host: qn.doutub.com\n",
    "If-Modified-Since: Wed, 24 Jul 2019 14:27:31 GMT\n",
    "If-None-Match: \"FoaI7uga9nS0wUQm0LCqu3fxtNHH\"\n",
    "Referer: https://www.doutub.com/\n",
    "Sec-Fetch-Dest: document\n",
    "Sec-Fetch-Mode: navigate\n",
    "Sec-Fetch-Site: same-site\n",
    "Sec-Fetch-User: ?1\n",
    "Upgrade-Insecure-Requests: 1\n",
    "User-Agent: Mozilla/5.0 (Windows NT 10.0; Win64; x64) AppleWebKit/537.36 (KHTML, like Gecko) Chrome/119.0.0.0 Safari/537.36 Edg/119.0.0.0\n",
    "sec-ch-ua: \"Microsoft Edge\";v=\"119\", \"Chromium\";v=\"119\", \"Not?A_Brand\";v=\"24\"\n",
    "sec-ch-ua-mobile: ?0\n",
    "sec-ch-ua-platform: \"Windows\"'''\n",
    "img_headers=str_to_dict(img_headers_str)\n",
    "\n",
    "#一个例子 选取第1张图片\n",
    "img_name=imgs_name[0]\n",
    "img_url=imgs_path[0]\n",
    "\n",
    "img_resp=requests.get(url=img_url,headers=img_headers)"
   ]
  },
  {
   "cell_type": "code",
   "execution_count": 52,
   "metadata": {},
   "outputs": [],
   "source": [
    "img_type=img_resp.headers['Content-Type'].split('/')[1].strip() #解析响应对象的类型 very important skill !!!"
   ]
  },
  {
   "cell_type": "markdown",
   "metadata": {},
   "source": [
    "##### 用PIL进行图片读取 #####"
   ]
  },
  {
   "cell_type": "code",
   "execution_count": 58,
   "metadata": {},
   "outputs": [],
   "source": [
    "img_bytes=io.BytesIO(img_resp.content)\n",
    "image=Image.open(img_bytes)\n",
    "image.show()"
   ]
  },
  {
   "cell_type": "markdown",
   "metadata": {},
   "source": [
    "##### 用tkinter进行交互式显示/保存图片 #####"
   ]
  },
  {
   "cell_type": "code",
   "execution_count": 63,
   "metadata": {},
   "outputs": [],
   "source": [
    "root=tk.Tk()\n",
    "tk_image=ImageTk.PhotoImage(image)\n",
    "\n",
    "root.title('表情包')\n",
    "tk_image_widget=tk.Label(root,image=tk_image)\n",
    "tk_image_widget.pack()\n",
    "\n",
    "def keyboardEventResp(event:tk.Event):\n",
    "    key=event.keysym\n",
    "    if key=='s':\n",
    "        image.save(dir_path+f'/{img_name}.{img_type}')\n",
    "        root.destroy()\n",
    "    elif key=='n':\n",
    "        root.destroy()\n",
    "    elif key=='q':\n",
    "        root.destroy()\n",
    "\n",
    "root.bind('<KeyPress>',keyboardEventResp)\n",
    "\n",
    "root.mainloop()"
   ]
  }
 ],
 "metadata": {
  "kernelspec": {
   "display_name": "ML",
   "language": "python",
   "name": "python3"
  },
  "language_info": {
   "codemirror_mode": {
    "name": "ipython",
    "version": 3
   },
   "file_extension": ".py",
   "mimetype": "text/x-python",
   "name": "python",
   "nbconvert_exporter": "python",
   "pygments_lexer": "ipython3",
   "version": "3.8.18"
  }
 },
 "nbformat": 4,
 "nbformat_minor": 2
}
