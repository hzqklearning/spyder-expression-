{
 "cells": [
  {
   "cell_type": "code",
   "execution_count": 21,
   "metadata": {},
   "outputs": [],
   "source": [
    "import requests\n",
    "import json"
   ]
  },
  {
   "cell_type": "code",
   "execution_count": 13,
   "metadata": {},
   "outputs": [],
   "source": [
    "key_url='https://www.dbbqb.com/api/search/json'"
   ]
  },
  {
   "cell_type": "code",
   "execution_count": 15,
   "metadata": {},
   "outputs": [],
   "source": [
    "headers_str='''Accept: application/json\n",
    "Accept-Encoding: gzip, deflate, br\n",
    "Accept-Language: zh-CN,zh;q=0.9,en;q=0.8,en-GB;q=0.7,en-US;q=0.6\n",
    "Client-Id: \n",
    "Connection: keep-alive\n",
    "Content-Type: application/json\n",
    "Cookie: Hm_lvt_7d2469592a25c577fe82de8e71a5ae60=1701095565,1701145073; Hm_lpvt_7d2469592a25c577fe82de8e71a5ae60=1701145117\n",
    "Host: www.dbbqb.com\n",
    "Referer: https://www.dbbqb.com/s?w=%E7%86%8A%E7%8C%AB\n",
    "Sec-Fetch-Dest: empty\n",
    "Sec-Fetch-Mode: cors\n",
    "Sec-Fetch-Site: same-origin\n",
    "User-Agent: Mozilla/5.0 (Windows NT 10.0; Win64; x64) AppleWebKit/537.36 (KHTML, like Gecko) Chrome/119.0.0.0 Safari/537.36 Edg/119.0.0.0\n",
    "Web-Agent: web\n",
    "sec-ch-ua: \"Microsoft Edge\";v=\"119\", \"Chromium\";v=\"119\", \"Not?A_Brand\";v=\"24\"\n",
    "sec-ch-ua-mobile: ?0\n",
    "sec-ch-ua-platform: \"Windows\"'''\n",
    "\n",
    "headers={line.split(':')[0].strip():line.split(':')[1].strip() for line in headers_str.split('\\n')}\n",
    "\n"
   ]
  },
  {
   "cell_type": "code",
   "execution_count": 16,
   "metadata": {},
   "outputs": [],
   "source": [
    "paras_str='''start: 0\n",
    "w: %E7%86%8A%E7%8C%AB'''\n",
    "paras={line.split(':')[0].strip():line.split(':')[1].strip() for line in paras_str.split('\\n')}\n",
    "\n",
    "# print(headers)\n",
    "resp=requests.get(key_url,headers=headers,params=paras)"
   ]
  },
  {
   "cell_type": "code",
   "execution_count": 19,
   "metadata": {},
   "outputs": [],
   "source": [
    "resp_content=resp.content.decode(resp.encoding)"
   ]
  },
  {
   "cell_type": "code",
   "execution_count": 20,
   "metadata": {},
   "outputs": [
    {
     "data": {
      "text/plain": [
       "'[{\"path\":\"202311281534/4a5d196075c2fef88360e8e1c5ce62cb/Oppe\",\"width\":111,\"hashId\":\"Oppe\",\"height\":120},{\"path\":\"202311281534/b4253168a1be3e553ef338d23deafd6b/r0nwM\",\"width\":228,\"hashId\":\"r0nwM\",\"height\":166},{\"path\":\"202311281534/cc9b8d27f7b887bff9fa233d9bb6cb04/yBb8\",\"width\":440,\"hashId\":\"yBb8\",\"height\":440},{\"path\":\"202311281534/53314373eee4e92fc1d98c8ba9a0bd66/pXO1q\",\"width\":720,\"hashId\":\"pXO1q\",\"height\":540},{\"path\":\"202311281534/53307eb5cc40c2734261873117519aa2/rojv3\",\"width\":440,\"hashId\":\"rojv3\",\"height\":440},{\"path\":\"202311281534/9dc59c13aed855edbd4b1fe8f1d04e32/QQD67\",\"width\":300,\"hashId\":\"QQD67\",\"height\":275},{\"path\":\"202311281534/b5feaac06cf5a51c1c5429832d64ced5/QQK49\",\"width\":394,\"hashId\":\"QQK49\",\"height\":394},{\"path\":\"202311281534/f8503234f5358759fe132a37530b7d84/ooGD4\",\"width\":720,\"hashId\":\"ooGD4\",\"height\":673},{\"path\":\"202311281534/6f027fd5a88db95267b954b2d00c653f/GGrjY\",\"width\":200,\"hashId\":\"GGrjY\",\"height\":284},{\"path\":\"202311281534/c2e843b9cbc5b1637ea4995cbff846b7/1JJLY\",\"width\":480,\"hashId\":\"1JJLY\",\"height\":480},{\"path\":\"202311281534/968bb4f24b5e4e313d04501a8854fe0b/2jj5W\",\"width\":480,\"hashId\":\"2jj5W\",\"height\":480},{\"path\":\"202311281534/65105580bebf7c3d04622e119674b563/q3Avd\",\"width\":178,\"hashId\":\"q3Avd\",\"height\":200},{\"path\":\"202311281534/936b412cf15b8f25e7f1cd21d30224f7/lQM1q\",\"width\":720,\"hashId\":\"lQM1q\",\"height\":463},{\"path\":\"202311281534/73022aed79c8fa0edeec1adcabfe255f/k4o5\",\"width\":164,\"hashId\":\"k4o5\",\"height\":147},{\"path\":\"202311281534/ac04b2f8c1bae6c84e6be4a98dd408ed/pXXwB\",\"width\":480,\"hashId\":\"pXXwB\",\"height\":480},{\"path\":\"202311281534/a90032d963ef9b3bb928d9f671bd0731/e3npN\",\"width\":198,\"hashId\":\"e3npN\",\"height\":157},{\"path\":\"202311281534/ac692072f3a4507c596461e69c62301f/gDkq\",\"width\":440,\"hashId\":\"gDkq\",\"height\":264},{\"path\":\"202311281534/a5575cfeeb3edc32df86fe7f1bc53b34/YqX5j\",\"width\":55,\"hashId\":\"YqX5j\",\"height\":55},{\"path\":\"202311281534/604a5d94095e658c02a763d1cffab690/dxKYo\",\"width\":440,\"hashId\":\"dxKYo\",\"height\":467},{\"path\":\"202311281534/03abcd68e945e0503d72614f74194719/71xzL\",\"width\":440,\"hashId\":\"71xzL\",\"height\":467},{\"path\":\"202311281534/8938686d7dd5118aba5628f3951b3443/bpxej\",\"width\":252,\"hashId\":\"bpxej\",\"height\":393},{\"path\":\"202311281534/bc2db2aae2426ff36c9598e19dee03ea/v9QZn\",\"width\":440,\"hashId\":\"v9QZn\",\"height\":363},{\"path\":\"202311281534/6e725a97ad47e8ca94305fee01a595e9/Aol7X\",\"width\":720,\"hashId\":\"Aol7X\",\"height\":606},{\"path\":\"202311281534/2ca7257b51f8201568cfe8b9a4f2b621/LpX1\",\"width\":300,\"hashId\":\"LpX1\",\"height\":169},{\"path\":\"202311281534/d24762664dbc567dbd98b9fb3c9afba0/d339x\",\"width\":193,\"hashId\":\"d339x\",\"height\":193},{\"path\":\"202311281534/8ab9462ae39a730cd1f93b4ecae6a8cd/jdpEZ\",\"width\":720,\"hashId\":\"jdpEZ\",\"height\":677},{\"path\":\"202311281534/b68d76dd2b9a33d313fbaf8a356ac290/lxOgK\",\"width\":193,\"hashId\":\"lxOgK\",\"height\":194},{\"path\":\"202311281534/ff537a6d881d5aece497d4c4befb4f4c/Yrxqv\",\"width\":240,\"hashId\":\"Yrxqv\",\"height\":240},{\"path\":\"202311281534/ef547c2490ff7c357d39dd8e45e2ab81/79E10\",\"width\":252,\"hashId\":\"79E10\",\"height\":199},{\"path\":\"202311281534/0c584575ed47941b62191ae8e40edf5e/mggwQ\",\"width\":480,\"hashId\":\"mggwQ\",\"height\":480},{\"path\":\"202311281534/220cda6d8cbe42f15675456c0b2437a4/EL7xm\",\"width\":198,\"hashId\":\"EL7xm\",\"height\":163},{\"path\":\"202311281534/216f5ca60dc374b011565349691efe78/0xwlr\",\"width\":500,\"hashId\":\"0xwlr\",\"height\":478},{\"path\":\"202311281534/77a518d3d2bbbb84e144b077bf37bd5b/pXBDW\",\"width\":495,\"hashId\":\"pXBDW\",\"height\":352},{\"path\":\"202311281534/d9f8f7dfa0d64d6ef9270edc9947b840/BLve1\",\"width\":252,\"hashId\":\"BLve1\",\"height\":199},{\"path\":\"202311281534/0133adc9ab8d474ffeaed0e728794df4/kQ9O0\",\"width\":360,\"hashId\":\"kQ9O0\",\"height\":371},{\"path\":\"202311281534/db989f93ec8427ecfb6f8a2a380acaf4/djyL\",\"width\":155,\"hashId\":\"djyL\",\"height\":146},{\"path\":\"202311281534/3c037a563370f322464f5a371a9cc87f/w1zD4\",\"width\":160,\"hashId\":\"w1zD4\",\"height\":160},{\"path\":\"202311281534/99f99211462208be8ae22eb76ad74b06/G8KG7\",\"width\":252,\"hashId\":\"G8KG7\",\"height\":199},{\"path\":\"202311281534/eb23e48092a60fcdad2d1c1ea8c17608/ypyp8\",\"width\":381,\"hashId\":\"ypyp8\",\"height\":384},{\"path\":\"202311281534/b671d5d07c78f5f2e52702afd307d268/eM2mZ\",\"width\":412,\"hashId\":\"eM2mZ\",\"height\":412},{\"path\":\"202311281534/3104d4dd8c5997c0e8e734a69ffe5dce/LYDY\",\"width\":250,\"hashId\":\"LYDY\",\"height\":250},{\"path\":\"202311281534/ca760fe9d4bbafb3a1dae023711d1b87/mgzpb\",\"width\":440,\"hashId\":\"mgzpb\",\"height\":371},{\"path\":\"202311281534/2b1d661d690599668d037e1158acb3f3/ggZzY\",\"width\":240,\"hashId\":\"ggZzY\",\"height\":221},{\"path\":\"202311281534/3075aadeec373698cdd4032711b7f79c/Mn6r\",\"width\":200,\"hashId\":\"Mn6r\",\"height\":180},{\"path\":\"202311281534/6bb7af15ad2cb4f75445253f4748217a/n1DZ\",\"width\":180,\"hashId\":\"n1DZ\",\"height\":180},{\"path\":\"202311281534/ae1af4224cf29864c710ccdedb8dcb03/vvxyG\",\"width\":200,\"hashId\":\"vvxyG\",\"height\":180},{\"path\":\"202311281534/c901847569dcce893f34145bafcf3ffc/4xQmG\",\"width\":240,\"hashId\":\"4xQmG\",\"height\":161},{\"path\":\"202311281534/ea71309b9e683adbf3ec2eb4f245ad18/l59q\",\"width\":200,\"hashId\":\"l59q\",\"height\":200},{\"path\":\"202311281534/f901c4d45033cc008f585cb2dffef515/6M1yX\",\"width\":230,\"hashId\":\"6M1yX\",\"height\":156},{\"path\":\"202311281534/be8932eb69d0d99c614b580191542556/2bEe\",\"width\":100,\"hashId\":\"2bEe\",\"height\":100},{\"path\":\"202311281534/ca196a9797e723f320a2b491b0747f32/4xg0w\",\"width\":440,\"hashId\":\"4xg0w\",\"height\":440},{\"path\":\"202311281534/21b0728e7d3744fef3162ab6e3e497fa/3QEQ\",\"width\":100,\"hashId\":\"3QEQ\",\"height\":100},{\"path\":\"202311281534/c6697806ac764f139844decfafe3bc88/5mwp\",\"width\":240,\"hashId\":\"5mwp\",\"height\":241},{\"path\":\"202311281534/95a554455a1a4a85d0e69e3458f57e38/9YWEz\",\"width\":720,\"hashId\":\"9YWEz\",\"height\":296},{\"path\":\"202311281534/de9599b8795726053ee20b363a74ca02/ByWO\",\"width\":440,\"hashId\":\"ByWO\",\"height\":431},{\"path\":\"202311281534/35374a50c72877a31faf28c95fc38747/BLov5\",\"width\":720,\"hashId\":\"BLov5\",\"height\":633},{\"path\":\"202311281534/4afc5622c0d36ac466613853cb341b77/lQvW4\",\"width\":350,\"hashId\":\"lQvW4\",\"height\":350},{\"path\":\"202311281534/de54c59af3ca3b65d06525d04df3761a/BLw2k\",\"width\":440,\"hashId\":\"BLw2k\",\"height\":467},{\"path\":\"202311281534/20aad54c7b6644ee5e0a86ed8291af5e/oopx9\",\"width\":440,\"hashId\":\"oopx9\",\"height\":349},{\"path\":\"202311281534/215fe4c30082a584875ac0f02714804f/XN4bW\",\"width\":440,\"hashId\":\"XN4bW\",\"height\":425},{\"path\":\"202311281534/ed8bd224c1c9c7b00409306d461bad3b/1AKX4\",\"width\":440,\"hashId\":\"1AKX4\",\"height\":440},{\"path\":\"202311281534/dae430e0f2d8b22dd9b6d6cbd663c1aa/0gLeo\",\"width\":235,\"hashId\":\"0gLeo\",\"height\":282},{\"path\":\"202311281534/904fb738ad16f511c3ca9beb0f515bdb/4DYq\",\"width\":184,\"hashId\":\"4DYq\",\"height\":198},{\"path\":\"202311281534/861cecdaad67be03b8c298a9e9c458ac/v1AmB\",\"width\":440,\"hashId\":\"v1AmB\",\"height\":440},{\"path\":\"202311281534/bdeb3924b8f1e12787a80d9554797721/2YYdL\",\"width\":123,\"hashId\":\"2YYdL\",\"height\":121},{\"path\":\"202311281534/7f2cd3451765b9b4da07af26e1061149/jZdAN\",\"width\":960,\"hashId\":\"jZdAN\",\"height\":960},{\"path\":\"202311281534/199806369894fb4173a28723518c142d/Erzj\",\"width\":200,\"hashId\":\"Erzj\",\"height\":193},{\"path\":\"202311281534/80c6486420c11f5335a4abec1960e2e9/OmQW1\",\"width\":352,\"hashId\":\"OmQW1\",\"height\":253},{\"path\":\"202311281534/cbb32c6d671460d6130066501f3de046/mggOA\",\"width\":240,\"hashId\":\"mggOA\",\"height\":240},{\"path\":\"202311281534/79644d191c77eb621a6b268545095bf6/DGGzm\",\"width\":240,\"hashId\":\"DGGzm\",\"height\":240},{\"path\":\"202311281534/e82209275f7525fcc40b19405b68d72b/QQ2EW\",\"width\":120,\"hashId\":\"QQ2EW\",\"height\":100},{\"path\":\"202311281534/3e97b7911f1aed01db2841fb0ae1f0d1/027v1\",\"width\":376,\"hashId\":\"027v1\",\"height\":343},{\"path\":\"202311281534/2f109dff0962fb73109686290edd6349/XN0k4\",\"width\":238,\"hashId\":\"XN0k4\",\"height\":240},{\"path\":\"202311281534/7d0a8ff6f8c4390ca8a271bdf15cbb95/jgN2N\",\"width\":400,\"hashId\":\"jgN2N\",\"height\":287},{\"path\":\"202311281534/9025618a39a70d83590acb5d182060b0/bpL4d\",\"width\":440,\"hashId\":\"bpL4d\",\"height\":440},{\"path\":\"202311281534/6212d8d96bff869504fb68e88d539735/b2yxY\",\"width\":160,\"hashId\":\"b2yxY\",\"height\":125},{\"path\":\"202311281534/809ac317ec9429ac4223bff1e3f160f5/kQnG4\",\"width\":240,\"hashId\":\"kQnG4\",\"height\":240},{\"path\":\"202311281534/d07bf156fb95ca2b798184e751de0388/53XeM\",\"width\":440,\"hashId\":\"53XeM\",\"height\":440},{\"path\":\"202311281534/0d1d34cc264c3490c236546b454108c5/7XxGL\",\"width\":296,\"hashId\":\"7XxGL\",\"height\":280},{\"path\":\"202311281534/d51a94da179921378a9d982ad33a1d4d/ndvzv\",\"width\":190,\"hashId\":\"ndvzv\",\"height\":190},{\"path\":\"202311281534/f617fda8da2e340f1bcd8c63ef229767/9k8N\",\"width\":440,\"hashId\":\"9k8N\",\"height\":576},{\"path\":\"202311281534/ffae055ae32f7b8329b911119fd8a3e4/j34J\",\"width\":440,\"hashId\":\"j34J\",\"height\":440},{\"path\":\"202311281534/e214a5162f8b98b86e7867e3000f6c43/WzlYe\",\"width\":300,\"hashId\":\"WzlYe\",\"height\":284},{\"path\":\"202311281534/187dd9e75b2c59e767c8fc59db707889/EY8v\",\"width\":440,\"hashId\":\"EY8v\",\"height\":440},{\"path\":\"202311281534/5e302ff1bd52f8b49dec1ba2f5233fbc/4B4rn\",\"width\":368,\"hashId\":\"4B4rn\",\"height\":384},{\"path\":\"202311281534/3caf7fdeeab25ec946f0ee78a2ea0b6c/mgD6n\",\"width\":130,\"hashId\":\"mgD6n\",\"height\":132},{\"path\":\"202311281534/faff15ba7a08a9a7a658ea08683fa9aa/LEE56\",\"width\":240,\"hashId\":\"LEE56\",\"height\":240},{\"path\":\"202311281534/1d42fb3683f500906f5eac9915c50744/ooopG\",\"width\":270,\"hashId\":\"ooopG\",\"height\":270},{\"path\":\"202311281534/1487613acb527a0e28926c5eb25041b8/d3ov6\",\"width\":440,\"hashId\":\"d3ov6\",\"height\":440},{\"path\":\"202311281534/99c91fb2e6cd0e2e1525f82fddac2a42/MQr6Z\",\"width\":273,\"hashId\":\"MQr6Z\",\"height\":233},{\"path\":\"202311281534/2e10639c21ccdbbdbbd49ff296d15281/O3OOr\",\"width\":640,\"hashId\":\"O3OOr\",\"height\":640},{\"path\":\"202311281534/90a23760560da117cb3573cef460c556/noAK\",\"width\":400,\"hashId\":\"noAK\",\"height\":400},{\"path\":\"202311281534/7d26e7a5985a1bf865652ba863e6e0ba/7Xqm0\",\"width\":130,\"hashId\":\"7Xqm0\",\"height\":132},{\"path\":\"202311281534/097386da97c102b09a2ae3a692b91819/k1b3A\",\"width\":690,\"hashId\":\"k1b3A\",\"height\":676},{\"path\":\"202311281534/c83373aa7f38d32b481ff1edd92b2d34/3ZWz\",\"width\":440,\"hashId\":\"3ZWz\",\"height\":440},{\"path\":\"202311281534/4b0e590d37bb74dddc149d10274b835f/WO6p\",\"width\":182,\"hashId\":\"WO6p\",\"height\":151},{\"path\":\"202311281534/82c8877980d110e17c5e7170de3706e0/XZkZ9\",\"width\":440,\"hashId\":\"XZkZ9\",\"height\":440},{\"path\":\"202311281534/6a484621fe27d0f1a72fb1fee4a36086/ZyOwJ\",\"width\":200,\"hashId\":\"ZyOwJ\",\"height\":200},{\"path\":\"202311281534/4e4e8bc7111a4a285e36fcca7a9a0cd9/3OGw5\",\"width\":197,\"hashId\":\"3OGw5\",\"height\":198},{\"path\":\"202311281534/c1531a009dad7fdb9727216b0900b974/MEG6k\",\"width\":240,\"hashId\":\"MEG6k\",\"height\":240}]'"
      ]
     },
     "execution_count": 20,
     "metadata": {},
     "output_type": "execute_result"
    }
   ],
   "source": [
    "resp_content"
   ]
  },
  {
   "cell_type": "code",
   "execution_count": 23,
   "metadata": {},
   "outputs": [],
   "source": [
    "resp_content=json.loads(resp_content)"
   ]
  },
  {
   "cell_type": "code",
   "execution_count": 26,
   "metadata": {},
   "outputs": [],
   "source": [
    "hashid=resp_content[0]['hashId']\n",
    "photo_url='https://www.dbbqb.com/api/image/'+hashid\n",
    "\n",
    "photo_headers_str='''Accept: application/json\n",
    "Accept-Encoding: gzip, deflate, br\n",
    "Accept-Language: zh-CN,zh;q=0.9,en;q=0.8,en-GB;q=0.7,en-US;q=0.6\n",
    "Client-Id: \n",
    "Connection: keep-alive\n",
    "Content-Type: application/json\n",
    "Cookie: Hm_lvt_7d2469592a25c577fe82de8e71a5ae60=1701095565,1701145073; Hm_lpvt_7d2469592a25c577fe82de8e71a5ae60=1701157839\n",
    "Host: www.dbbqb.com\n",
    "Referer: https://www.dbbqb.com/detail/roXWl.html\n",
    "Sec-Fetch-Dest: empty\n",
    "Sec-Fetch-Mode: cors\n",
    "Sec-Fetch-Site: same-origin\n",
    "User-Agent: Mozilla/5.0 (Windows NT 10.0; Win64; x64) AppleWebKit/537.36 (KHTML, like Gecko) Chrome/119.0.0.0 Safari/537.36 Edg/119.0.0.0\n",
    "Web-Agent: web\n",
    "sec-ch-ua: \"Microsoft Edge\";v=\"119\", \"Chromium\";v=\"119\", \"Not?A_Brand\";v=\"24\"\n",
    "sec-ch-ua-mobile: ?0\n",
    "sec-ch-ua-platform: \"Windows\"'''\n",
    "photo_headers={line.split(':')[0].strip():line.split(':')[1].strip() for line in photo_headers_str.split('\\n')}\n",
    "photo_resp=requests.get(photo_url,headers=photo_headers)\n",
    "photo_resp_content=json.loads(photo_resp.content.decode(photo_resp.encoding))\n",
    "\n",
    "photo_path=photo_resp_content['path']\n",
    "photo_img_url='https://image.dbbqb.com/'+photo_path\n",
    "photo_img_resp=requests.get(photo_img_url,photo_headers)\n",
    "photo_img=photo_img_resp.content\n"
   ]
  },
  {
   "cell_type": "code",
   "execution_count": 31,
   "metadata": {},
   "outputs": [],
   "source": [
    "from PIL import Image\n",
    "import io"
   ]
  },
  {
   "cell_type": "code",
   "execution_count": 34,
   "metadata": {},
   "outputs": [],
   "source": [
    "img_bytes=io.BytesIO(photo_img)"
   ]
  },
  {
   "cell_type": "code",
   "execution_count": 35,
   "metadata": {},
   "outputs": [],
   "source": [
    "image=Image.open(img_bytes)"
   ]
  },
  {
   "cell_type": "code",
   "execution_count": 39,
   "metadata": {},
   "outputs": [],
   "source": [
    "image.save('./aaa.jpg')"
   ]
  }
 ],
 "metadata": {
  "kernelspec": {
   "display_name": "ML",
   "language": "python",
   "name": "python3"
  },
  "language_info": {
   "codemirror_mode": {
    "name": "ipython",
    "version": 3
   },
   "file_extension": ".py",
   "mimetype": "text/x-python",
   "name": "python",
   "nbconvert_exporter": "python",
   "pygments_lexer": "ipython3",
   "version": "3.8.18"
  }
 },
 "nbformat": 4,
 "nbformat_minor": 2
}
